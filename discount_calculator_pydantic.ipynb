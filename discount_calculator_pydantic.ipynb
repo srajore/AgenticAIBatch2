{
 "cells": [
  {
   "cell_type": "code",
   "execution_count": 26,
   "id": "dc58388a",
   "metadata": {},
   "outputs": [],
   "source": [
    "# imports\n",
    "from pydantic import BaseModel,Field\n",
    "\n",
    "from langgraph.graph import StateGraph, END, START\n",
    "\n",
    "from typing import Dict"
   ]
  },
  {
   "cell_type": "code",
   "execution_count": 27,
   "id": "5a5c9197",
   "metadata": {},
   "outputs": [],
   "source": [
    "class DiscountState(BaseModel):\n",
    "    total : float = Field(...,ge=0,description=\"Total price of the order\")\n",
    "    discount_rate: float = Field(0.0,ge=0,le=1,description=\"Discount rate to apply to the order\")\n",
    "    final_price:float = Field(0.0,ge=0,description=\"Final price of the order after discount\")\n",
    "    "
   ]
  },
  {
   "cell_type": "code",
   "execution_count": 28,
   "id": "73c88c30",
   "metadata": {},
   "outputs": [],
   "source": [
    "def check_eligibility(state: DiscountState) -> Dict:\n",
    "    total = state.total\n",
    "    if total > 1000:\n",
    "        return {'discount_rate': 0.20}\n",
    "    elif total > 500:\n",
    "        return {'discount_rate': 0.10}\n",
    "    else:\n",
    "        return {'discount_rate': 0.00}"
   ]
  },
  {
   "cell_type": "code",
   "execution_count": 29,
   "id": "26816958",
   "metadata": {},
   "outputs": [],
   "source": [
    "def apply_discount(state: DiscountState) -> Dict:\n",
    "    total = state.total\n",
    "    rate = state.discount_rate\n",
    "    final = total *( 1- rate)\n",
    "    return {'final_price': final}"
   ]
  },
  {
   "cell_type": "code",
   "execution_count": 30,
   "id": "7c6bf826",
   "metadata": {},
   "outputs": [],
   "source": [
    "def no_discount(state: DiscountState)-> Dict:\n",
    "    return {'final_price': state.total}"
   ]
  },
  {
   "cell_type": "code",
   "execution_count": 31,
   "id": "ff5f52f7",
   "metadata": {},
   "outputs": [],
   "source": [
    "def router_discount(state: DiscountState) -> Dict:\n",
    "    if state.discount_rate > 0:\n",
    "        return \"apply\"\n",
    "    else:\n",
    "        return \"no\""
   ]
  },
  {
   "cell_type": "code",
   "execution_count": 32,
   "id": "d66fa281",
   "metadata": {},
   "outputs": [
    {
     "data": {
      "text/plain": [
       "<langgraph.graph.state.StateGraph at 0x2bad12f16c0>"
      ]
     },
     "execution_count": 32,
     "metadata": {},
     "output_type": "execute_result"
    }
   ],
   "source": [
    "graph = StateGraph(DiscountState)\n",
    "\n",
    "graph.add_node(\"apply_discount\", apply_discount)\n",
    "graph.add_node(\"check_eligibility\", check_eligibility)\n",
    "graph.add_node(\"no_discount\", no_discount)\n",
    "\n",
    "graph.add_edge(START, \"check_eligibility\")\n",
    "\n",
    "#graph.add_edge(\"check_eligibility\",\"apply_discount\")\n",
    "#graph.add_edge(\"check_eligibility\",\"no_discount\")\n",
    "graph.add_conditional_edges(\"check_eligibility\", router_discount,{\n",
    "    \"apply\": \"apply_discount\",\n",
    "    \"no\": \"no_discount\"\n",
    "})\n",
    "\n",
    "\n",
    "graph.add_edge(\"apply_discount\", END)\n",
    "\n",
    "graph.add_edge(\"no_discount\", END)\n",
    "\n"
   ]
  },
  {
   "cell_type": "code",
   "execution_count": 33,
   "id": "b24790ae",
   "metadata": {},
   "outputs": [],
   "source": [
    "workflow = graph.compile()"
   ]
  },
  {
   "cell_type": "code",
   "execution_count": 34,
   "id": "2b3a1c9b",
   "metadata": {},
   "outputs": [],
   "source": [
    "response = workflow.invoke({\"total\": 300})"
   ]
  },
  {
   "cell_type": "code",
   "execution_count": 35,
   "id": "81214c2d",
   "metadata": {},
   "outputs": [
    {
     "name": "stdout",
     "output_type": "stream",
     "text": [
      "{'total': 300, 'discount_rate': 0.0, 'final_price': 300.0}\n"
     ]
    }
   ],
   "source": [
    "print(response)"
   ]
  },
  {
   "cell_type": "markdown",
   "id": "d4b6513a",
   "metadata": {},
   "source": []
  }
 ],
 "metadata": {
  "kernelspec": {
   "display_name": "AgenticAIBatch2",
   "language": "python",
   "name": "python3"
  },
  "language_info": {
   "codemirror_mode": {
    "name": "ipython",
    "version": 3
   },
   "file_extension": ".py",
   "mimetype": "text/x-python",
   "name": "python",
   "nbconvert_exporter": "python",
   "pygments_lexer": "ipython3",
   "version": "3.10.11"
  }
 },
 "nbformat": 4,
 "nbformat_minor": 5
}
