{
 "cells": [
  {
   "cell_type": "code",
   "execution_count": 1,
   "id": "c94b9d5d",
   "metadata": {},
   "outputs": [],
   "source": [
    "import nest_asyncio\n",
    "nest_asyncio.apply()\n",
    "\n",
    "# For imports\n",
    "from typing import TypedDict\n",
    "from langgraph.graph import StateGraph,START,END\n",
    "import importlib\n",
    "import langgraph_util\n",
    "importlib.reload(langgraph_util)\n",
    "\n",
    "from langgraph_util import show_graph\n",
    "\n"
   ]
  },
  {
   "cell_type": "code",
   "execution_count": 2,
   "id": "a9028ad5",
   "metadata": {},
   "outputs": [],
   "source": [
    "class TempratureState(TypedDict):\n",
    "    celsius: float\n",
    "    fahrenheit: float"
   ]
  },
  {
   "cell_type": "code",
   "execution_count": 3,
   "id": "a41298d9",
   "metadata": {},
   "outputs": [],
   "source": [
    "def convert_temprature(state : TempratureState):\n",
    "    state['fahrenheit']= round(state['celsius'] * 9/5 +32,2)\n",
    "    return state"
   ]
  },
  {
   "cell_type": "code",
   "execution_count": 4,
   "id": "51ea9a08",
   "metadata": {},
   "outputs": [
    {
     "data": {
      "text/plain": [
       "<langgraph.graph.state.StateGraph at 0x1fc50f322c0>"
      ]
     },
     "execution_count": 4,
     "metadata": {},
     "output_type": "execute_result"
    }
   ],
   "source": [
    "graph = StateGraph(TempratureState)\n",
    "\n",
    "graph.add_node(\"convert\",convert_temprature)\n",
    "\n",
    "graph.add_edge(START,\"convert\")\n",
    "graph.add_edge(\"convert\",END)\n",
    "\n"
   ]
  },
  {
   "cell_type": "code",
   "execution_count": 5,
   "id": "0e6d3249",
   "metadata": {},
   "outputs": [],
   "source": [
    "workflow = graph.compile()\n",
    "\n",
    "show_graph(workflow)"
   ]
  },
  {
   "cell_type": "code",
   "execution_count": 6,
   "id": "ab8a7947",
   "metadata": {},
   "outputs": [],
   "source": [
    "result = workflow.invoke({\"celsius\":40})"
   ]
  },
  {
   "cell_type": "code",
   "execution_count": 7,
   "id": "4f4d08cb",
   "metadata": {},
   "outputs": [
    {
     "name": "stdout",
     "output_type": "stream",
     "text": [
      "{'celsius': 40, 'fahrenheit': 104.0}\n"
     ]
    }
   ],
   "source": [
    "print(result)"
   ]
  }
 ],
 "metadata": {
  "kernelspec": {
   "display_name": "AgenticAIBatch2",
   "language": "python",
   "name": "python3"
  },
  "language_info": {
   "codemirror_mode": {
    "name": "ipython",
    "version": 3
   },
   "file_extension": ".py",
   "mimetype": "text/x-python",
   "name": "python",
   "nbconvert_exporter": "python",
   "pygments_lexer": "ipython3",
   "version": "3.10.11"
  }
 },
 "nbformat": 4,
 "nbformat_minor": 5
}
