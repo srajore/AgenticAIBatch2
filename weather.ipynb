{
 "cells": [
  {
   "cell_type": "code",
   "execution_count": 23,
   "id": "cbf92fc6",
   "metadata": {},
   "outputs": [],
   "source": [
    "from typing import TypedDict\n",
    "from langchain_openai import ChatOpenAI\n",
    "from langgraph.graph import StateGraph, START, END\n",
    "from IPython.display import Image, display\n",
    "from dotenv import load_dotenv"
   ]
  },
  {
   "cell_type": "code",
   "execution_count": 24,
   "id": "037b05a8",
   "metadata": {},
   "outputs": [
    {
     "data": {
      "text/plain": [
       "True"
      ]
     },
     "execution_count": 24,
     "metadata": {},
     "output_type": "execute_result"
    }
   ],
   "source": [
    "load_dotenv(override=True)"
   ]
  },
  {
   "cell_type": "code",
   "execution_count": null,
   "id": "ee35c1ba",
   "metadata": {},
   "outputs": [],
   "source": [
    "class WeatherState(TypedDict):\n",
    "    question: str \n",
    "    answer: str\n"
   ]
  },
  {
   "cell_type": "code",
   "execution_count": 26,
   "id": "13bf729d",
   "metadata": {},
   "outputs": [],
   "source": [
    "llm = ChatOpenAI(\n",
    "    model=\"gpt-4o-mini\"\n",
    ")"
   ]
  },
  {
   "cell_type": "code",
   "execution_count": 27,
   "id": "e7b04349",
   "metadata": {},
   "outputs": [],
   "source": [
    "def question_qa(state: WeatherState):\n",
    "    prompt= f\" Answer : {state['question']}\"\n",
    "    state['answer']=llm.invoke(prompt).content\n",
    "    return state\n",
    "   "
   ]
  },
  {
   "cell_type": "code",
   "execution_count": 28,
   "id": "c755998c",
   "metadata": {},
   "outputs": [
    {
     "data": {
      "text/plain": [
       "<langgraph.graph.state.StateGraph at 0x1782265cd30>"
      ]
     },
     "execution_count": 28,
     "metadata": {},
     "output_type": "execute_result"
    }
   ],
   "source": [
    "graph= StateGraph(WeatherState)\n",
    "\n",
    "graph.add_node(\"question_qa\",question_qa)\n",
    "\n",
    "graph.add_edge(START,\"question_qa\")\n",
    "\n",
    "graph.add_edge(\"question_qa\", END)"
   ]
  },
  {
   "cell_type": "code",
   "execution_count": 36,
   "id": "27ddd3e0",
   "metadata": {},
   "outputs": [
    {
     "data": {
      "image/png": "[encoded data removed]",
      "text/plain": [
       "<langgraph.graph.state.CompiledStateGraph object at 0x000001782265C760>"
      ]
     },
     "execution_count": 36,
     "metadata": {},
     "output_type": "execute_result"
    }
   ],
   "source": [
    "graph.compile()"
   ]
  },
  {
   "cell_type": "code",
   "execution_count": 38,
   "id": "0b6df24a",
   "metadata": {},
   "outputs": [
    {
     "data": {
      "image/jpeg": "[encoded data removed]",
      "text/plain": [
       "<IPython.core.display.Image object>"
      ]
     },
     "metadata": {},
     "output_type": "display_data"
    }
   ],
   "source": [
    "display(Image(workflow.get_graph().draw_mermaid_png()))"
   ]
  },
  {
   "cell_type": "code",
   "execution_count": 33,
   "id": "6e15818e",
   "metadata": {},
   "outputs": [],
   "source": [
    "response = workflow.invoke({\"question\": \"What is the weather like today in Pune?\"})"
   ]
  },
  {
   "cell_type": "code",
   "execution_count": 34,
   "id": "6d5f3bb8",
   "metadata": {},
   "outputs": [
    {
     "name": "stdout",
     "output_type": "stream",
     "text": [
      "{'question': 'What is the weather like today in Pune?', 'answer': \"I'm sorry, but I can't provide real-time weather updates. I recommend checking a reliable weather website or app for the most current weather information in Pune.\"}\n"
     ]
    }
   ],
   "source": [
    "print(response)"
   ]
  }
 ],
 "metadata": {
  "kernelspec": {
   "display_name": "AgenticAIBatch2",
   "language": "python",
   "name": "python3"
  },
  "language_info": {
   "codemirror_mode": {
    "name": "ipython",
    "version": 3
   },
   "file_extension": ".py",
   "mimetype": "text/x-python",
   "name": "python",
   "nbconvert_exporter": "python",
   "pygments_lexer": "ipython3",
   "version": "3.10.11"
  }
 },
 "nbformat": 4,
 "nbformat_minor": 5
}
