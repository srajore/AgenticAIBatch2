{
 "cells": [
  {
   "cell_type": "code",
   "execution_count": 5,
   "id": "2626bc8e",
   "metadata": {},
   "outputs": [],
   "source": [
    "# Imports\n",
    "from typing import TypedDict,List, Annotated\n",
    "from langchain_core.messages import AnyMessage,HumanMessage,AIMessage\n",
    "from langgraph.graph import StateGraph, END ,START,MessagesState\n",
    "from operator import add\n"
   ]
  },
  {
   "cell_type": "code",
   "execution_count": 15,
   "id": "c70f0a30",
   "metadata": {},
   "outputs": [],
   "source": [
    "# Define chatbot state with accumulated messages\n",
    "\n"
   ]
  },
  {
   "cell_type": "code",
   "execution_count": 6,
   "id": "c89391eb",
   "metadata": {},
   "outputs": [],
   "source": [
    "# Responses based on intent level \n",
    "def connect_to_sales(state:MessagesState):\n",
    "    return {\"messages\":[AIMessage(content=\" Great ! let me connect you wit our sales team right now\")],\n",
    "            \"disscount\":10\n",
    "    }"
   ]
  },
  {
   "cell_type": "code",
   "execution_count": 7,
   "id": "28a2050c",
   "metadata": {},
   "outputs": [],
   "source": [
    "def sales_response(state:MessagesState):\n",
    "    return {\"messages\":[AIMessage(content=\" We have the best offer for you !\")],\n",
    "        \"disscount\":20\n",
    "    }"
   ]
  },
  {
   "cell_type": "code",
   "execution_count": 18,
   "id": "b5ef58cf",
   "metadata": {},
   "outputs": [
    {
     "data": {
      "text/plain": [
       "<langgraph.graph.state.StateGraph at 0x19370198610>"
      ]
     },
     "execution_count": 18,
     "metadata": {},
     "output_type": "execute_result"
    }
   ],
   "source": [
    "graph_builder = StateGraph(MessagesState)\n",
    "\n",
    "graph_builder.add_node(\"connect_to_sales\", connect_to_sales)\n",
    "graph_builder.add_node(\"sales_response\", sales_response)\n"
   ]
  },
  {
   "cell_type": "code",
   "execution_count": 19,
   "id": "faeb4209",
   "metadata": {},
   "outputs": [
    {
     "data": {
      "text/plain": [
       "<langgraph.graph.state.StateGraph at 0x19370198610>"
      ]
     },
     "execution_count": 19,
     "metadata": {},
     "output_type": "execute_result"
    }
   ],
   "source": [
    "# Define the conversation flow\n",
    "graph_builder.add_edge(START,\"connect_to_sales\")\n",
    "graph_builder.add_edge(\"connect_to_sales\",\"sales_response\")\n",
    "graph_builder.add_edge(\"sales_response\",END)\n"
   ]
  },
  {
   "cell_type": "code",
   "execution_count": 20,
   "id": "57aadd21",
   "metadata": {},
   "outputs": [],
   "source": [
    "#Compile the graph\n",
    "chatbot = graph_builder.compile()"
   ]
  },
  {
   "cell_type": "code",
   "execution_count": 21,
   "id": "4cad802b",
   "metadata": {},
   "outputs": [],
   "source": [
    "# Simulate the conversation\n",
    "\n",
    "test_inputes = \"I want to buy your product\""
   ]
  },
  {
   "cell_type": "code",
   "execution_count": 22,
   "id": "8399426d",
   "metadata": {},
   "outputs": [],
   "source": [
    "messages = chatbot.invoke({\"messages\": [HumanMessage(content=test_inputes)]})"
   ]
  },
  {
   "cell_type": "code",
   "execution_count": 23,
   "id": "04196715",
   "metadata": {},
   "outputs": [
    {
     "name": "stdout",
     "output_type": "stream",
     "text": [
      " Bot : I want to buy your product\n",
      " Bot :  Great ! let me connect you wit our sales team right now\n",
      " Bot :  We have the best offer for you !\n"
     ]
    }
   ],
   "source": [
    "for message in messages['messages']:\n",
    "    print(f\" Bot : {message.content}\")"
   ]
  },
  {
   "cell_type": "code",
   "execution_count": 24,
   "id": "21c2dc36",
   "metadata": {},
   "outputs": [],
   "source": [
    "#print(f\" Final Discount : {messages['disscount']}\",'%')"
   ]
  }
 ],
 "metadata": {
  "kernelspec": {
   "display_name": "AgenticAIBatch2",
   "language": "python",
   "name": "python3"
  },
  "language_info": {
   "codemirror_mode": {
    "name": "ipython",
    "version": 3
   },
   "file_extension": ".py",
   "mimetype": "text/x-python",
   "name": "python",
   "nbconvert_exporter": "python",
   "pygments_lexer": "ipython3",
   "version": "3.10.11"
  }
 },
 "nbformat": 4,
 "nbformat_minor": 5
}
