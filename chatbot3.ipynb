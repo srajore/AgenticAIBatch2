{
 "cells": [
  {
   "cell_type": "code",
   "execution_count": 18,
   "id": "c740c431",
   "metadata": {},
   "outputs": [],
   "source": [
    "# imports\n",
    "from typing import TypedDict,Annotated\n",
    "from langchain_core.messages import BaseMessage,HumanMessage\n",
    "from langgraph.graph.message import add_messages\n",
    "from langchain_ollama import ChatOllama\n",
    "from langgraph.graph import StateGraph,START,END\n",
    "from langgraph.checkpoint.memory import MemorySaver\n"
   ]
  },
  {
   "cell_type": "code",
   "execution_count": 19,
   "id": "26ea9327",
   "metadata": {},
   "outputs": [],
   "source": [
    "import operator\n",
    "class ChatState(TypedDict):\n",
    "    messages: Annotated[list[BaseMessage], add_messages]"
   ]
  },
  {
   "cell_type": "code",
   "execution_count": 20,
   "id": "df3dbcfd",
   "metadata": {},
   "outputs": [],
   "source": [
    "llm = ChatOllama(model=\"llama3.2:latest\")"
   ]
  },
  {
   "cell_type": "code",
   "execution_count": 21,
   "id": "d248f69d",
   "metadata": {},
   "outputs": [],
   "source": [
    "def chat_node(state:ChatState):\n",
    "    messages = state['messages']\n",
    "    response= llm.invoke(messages)\n",
    "    return {\"messages\": [response]}"
   ]
  },
  {
   "cell_type": "code",
   "execution_count": 22,
   "id": "0d76aa6f",
   "metadata": {},
   "outputs": [],
   "source": [
    "checkpointer = MemorySaver()"
   ]
  },
  {
   "cell_type": "code",
   "execution_count": 23,
   "id": "7d988a82",
   "metadata": {},
   "outputs": [],
   "source": [
    "graph = StateGraph(ChatState)\n",
    "\n",
    "graph.add_node(\"chat_node\", chat_node)\n",
    "\n",
    "graph.add_edge(START, \"chat_node\")\n",
    "graph.add_edge(\"chat_node\",END)\n",
    "\n",
    "\n",
    "workflow = graph.compile(checkpointer=checkpointer)\n"
   ]
  },
  {
   "cell_type": "code",
   "execution_count": 24,
   "id": "20882f02",
   "metadata": {},
   "outputs": [
    {
     "name": "stdout",
     "output_type": "stream",
     "text": [
      " AI : How can I assist you today?\n",
      " AI : Namaste Sharad! It's nice to meet you. Is there something I can help you with or would you like to chat for a bit?\n",
      " AI : I remember! Your name is Sharad. How can I assist you today, Sharad?\n",
      " AI : Easy one, Sharad!\n",
      "\n",
      "The answer is: 2\n",
      " AI : You want to add 20 to the previous result of 2?\n",
      "\n",
      "So, it would be:\n",
      "\n",
      "2 + 20 = 22\n",
      "\n",
      "Is that correct, Sharad?\n"
     ]
    }
   ],
   "source": [
    "thread_id=1\n",
    "while True:\n",
    "    user_message = input(' Type here ...')\n",
    "\n",
    "    if user_message.strip().lower() in[ 'exit','bye','quit']:\n",
    "        break\n",
    "\n",
    "    config={\"configurable\": {\"thread_id\": thread_id}}\n",
    "    response = workflow.invoke({\"messages\": [HumanMessage(content=user_message)]},config=config)\n",
    "\n",
    "    print(\" AI :\", response['messages'][-1].content )"
   ]
  }
 ],
 "metadata": {
  "kernelspec": {
   "display_name": "AgenticAIBatch2",
   "language": "python",
   "name": "python3"
  },
  "language_info": {
   "codemirror_mode": {
    "name": "ipython",
    "version": 3
   },
   "file_extension": ".py",
   "mimetype": "text/x-python",
   "name": "python",
   "nbconvert_exporter": "python",
   "pygments_lexer": "ipython3",
   "version": "3.10.11"
  }
 },
 "nbformat": 4,
 "nbformat_minor": 5
}
