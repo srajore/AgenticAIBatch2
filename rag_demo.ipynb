{
 "cells": [
  {
   "cell_type": "code",
   "execution_count": 59,
   "id": "d821ce8d",
   "metadata": {},
   "outputs": [],
   "source": [
    "from typing import List, TypedDict\n",
    "from langchain.text_splitter import RecursiveCharacterTextSplitter\n",
    "from langchain_community.document_loaders import WebBaseLoader\n",
    "from langchain_community.vectorstores import Chroma\n",
    "from langchain_openai import OpenAIEmbeddings\n",
    "from langchain_core.prompts import ChatPromptTemplate\n",
    "from langchain_openai import ChatOpenAI\n",
    "from langchain_core.output_parsers import StrOutputParser\n",
    "from langgraph.graph import StateGraph, START, END\n",
    "from dotenv import load_dotenv"
   ]
  },
  {
   "cell_type": "code",
   "execution_count": 60,
   "id": "10193d35",
   "metadata": {},
   "outputs": [
    {
     "data": {
      "text/plain": [
       "True"
      ]
     },
     "execution_count": 60,
     "metadata": {},
     "output_type": "execute_result"
    }
   ],
   "source": [
    "load_dotenv(override=True)"
   ]
  },
  {
   "cell_type": "code",
   "execution_count": 61,
   "id": "a170a28e",
   "metadata": {},
   "outputs": [],
   "source": [
    "# Current Affairs News Sources\n",
    "news_urls = [\n",
    "    \"https://www.bbc.com/news\",\n",
    "    \"https://www.cnn.com/world\",\n",
    "    \"https://www.nytimes.com/section/world\",\n",
    "    \"https://www.reuters.com/world/\",\n",
    "    \"https://www.aljazeera.com/news/\",\n",
    "    'https://www.moneycontrol.com/'\n",
    "]"
   ]
  },
  {
   "cell_type": "code",
   "execution_count": 62,
   "id": "af7cd530",
   "metadata": {},
   "outputs": [],
   "source": [
    "# Load Current Affairs Documents\n",
    "docs = [WebBaseLoader(url).load() for url in news_urls]\n",
    "docs_list = [item for sublist in docs for item in sublist]"
   ]
  },
  {
   "cell_type": "code",
   "execution_count": 63,
   "id": "19ee4c46",
   "metadata": {},
   "outputs": [],
   "source": [
    "# Split the articles for embeddings\n",
    "text_splitter = RecursiveCharacterTextSplitter.from_tiktoken_encoder(\n",
    "    chunk_size=300, chunk_overlap=20\n",
    ")"
   ]
  },
  {
   "cell_type": "code",
   "execution_count": 64,
   "id": "f2696ea4",
   "metadata": {},
   "outputs": [],
   "source": [
    "doc_splits = text_splitter.split_documents(docs_list)"
   ]
  },
  {
   "cell_type": "code",
   "execution_count": 65,
   "id": "59159d98",
   "metadata": {},
   "outputs": [],
   "source": [
    "# Store and Retrieve Current Affairs with ChromaDB\n",
    "vectorstore = Chroma.from_documents(\n",
    "    documents=doc_splits,\n",
    "    collection_name=\"current-affairs-news\",\n",
    "    embedding=OpenAIEmbeddings(),\n",
    ")"
   ]
  },
  {
   "cell_type": "code",
   "execution_count": 66,
   "id": "f35e3cc5",
   "metadata": {},
   "outputs": [],
   "source": [
    "retriever = vectorstore.as_retriever()"
   ]
  },
  {
   "cell_type": "code",
   "execution_count": 67,
   "id": "3dacbb8f",
   "metadata": {},
   "outputs": [],
   "source": [
    "# Prompt for Current Affairs News Summarization\n",
    "prompt = ChatPromptTemplate.from_template(\n",
    "    \"\"\"\n",
    "    You are a news analyst summarizing the latest current affairs.\n",
    "    Use the retrieved articles to provide a concise summary.\n",
    "    Highlight key global events and developments.\n",
    "\n",
    "    Question: {question}\n",
    "    News Articles: {context}\n",
    "    Summary:\n",
    "    \"\"\"\n",
    ")"
   ]
  },
  {
   "cell_type": "code",
   "execution_count": 68,
   "id": "2bca390c",
   "metadata": {},
   "outputs": [],
   "source": [
    "model = ChatOpenAI(model=\"gpt-4o-mini\")\n",
    "current_affairs_chain = (\n",
    "        prompt | model | StrOutputParser()\n",
    ")"
   ]
  },
  {
   "cell_type": "code",
   "execution_count": 69,
   "id": "783d7f49",
   "metadata": {},
   "outputs": [],
   "source": [
    "class CurrentAffairsGraphState(TypedDict):\n",
    "    question: str\n",
    "    retrieved_news: List[str]\n",
    "    generation: str"
   ]
  },
  {
   "cell_type": "code",
   "execution_count": 70,
   "id": "5c792f5b",
   "metadata": {},
   "outputs": [],
   "source": [
    "# TODO: Use the retriever and retrieve the matching news\n",
    "def retrieve_current_affairs(state):\n",
    "    print(\"---RETRIEVE CURRENT AFFAIRS---\")\n",
    "    question= state['question']\n",
    "    retrieved_news = retriever.invoke(question)\n",
    "    return {\"question\":question,\"retrieved_news\":retrieved_news}"
   ]
  },
  {
   "cell_type": "code",
   "execution_count": 71,
   "id": "20788d7a",
   "metadata": {},
   "outputs": [],
   "source": [
    "# TODO: Summarize the news\n",
    "# News Summary Generation Node\n",
    "def generate_current_affairs_summary(state):\n",
    "    print(\"---GENERATE CURRENT AFFAIRS SUMMARY---\")\n",
    "    question= state['question']\n",
    "    retrieved_news = retriever.invoke(question)\n",
    "    generation = current_affairs_chain.invoke({\"question\":question,\"context\":retrieved_news})\n",
    "    return  {\"question\":question,\"retrieved_news\":retrieved_news,\"generation\":generation}"
   ]
  },
  {
   "cell_type": "code",
   "execution_count": 72,
   "id": "07c68a2a",
   "metadata": {},
   "outputs": [],
   "source": [
    "# Current Affairs News Workflow Definition\n",
    "def create_current_affairs_workflow():\n",
    "    workflow = StateGraph(CurrentAffairsGraphState)\n",
    "    workflow.add_node(\"retrieve_current_affairs\", retrieve_current_affairs)\n",
    "    workflow.add_node(\"generate_current_affairs_summary\", generate_current_affairs_summary)\n",
    "    workflow.add_edge(START, \"retrieve_current_affairs\")\n",
    "    workflow.add_edge(\"retrieve_current_affairs\", \"generate_current_affairs_summary\")\n",
    "    workflow.add_edge(\"generate_current_affairs_summary\", END)\n",
    "    return workflow.compile()"
   ]
  },
  {
   "cell_type": "code",
   "execution_count": 73,
   "id": "393f1827",
   "metadata": {},
   "outputs": [],
   "source": [
    "# Execute the Current Affairs News Workflow\n",
    "current_affairs_graph = create_current_affairs_workflow()"
   ]
  },
  {
   "cell_type": "code",
   "execution_count": 76,
   "id": "cb0b6069",
   "metadata": {},
   "outputs": [
    {
     "name": "stdout",
     "output_type": "stream",
     "text": [
      "---RETRIEVE CURRENT AFFAIRS---\n",
      "---GENERATE CURRENT AFFAIRS SUMMARY---\n"
     ]
    }
   ],
   "source": [
    "inputs = {\"question\": \"stock price for HDFC Bank?\"}\n",
    "\n",
    "response = current_affairs_graph.invoke(inputs)"
   ]
  },
  {
   "cell_type": "code",
   "execution_count": 77,
   "id": "51103dc2",
   "metadata": {},
   "outputs": [
    {
     "name": "stdout",
     "output_type": "stream",
     "text": [
      "\n",
      "--- CURRENT AFFAIRS SUMMARY ---\n",
      "### Summary of Key Global Events and Developments\n",
      "\n",
      "1. **HDFC Bank Stock Performance**: As of the latest trading session, HDFC Bank's stock is priced at ₹979.00, reflecting a decline of ₹3.50. The market value for the bank stands at approximately ₹1,195.53 crore.\n",
      "\n",
      "2. **Global Stock Market Trends**: The Indian stock market shows varied performance. For instance, major companies like Reliance and Tata Motors are experiencing fluctuations in their stock prices, with Reliance down by ₹18.20 while TCS increased by ₹51.30 to ₹3025. \n",
      "\n",
      "3. **Economic Indicators**: Investors are keeping an eye on broader economic indicators, including inflation rates and upcoming corporate earnings, as they influence market sentiments across regions.\n",
      "\n",
      "4. **Market Movements**: The Sensex and Nifty indices in India have been showing minor variations, indicating cautious trading as investors digest recent economic data and global market cues.\n",
      "\n",
      "Overall, the latest trading activities in HDFC Bank and other major players reflect the ongoing volatility in the stock market and the impact of broader economic conditions on investor behavior.\n"
     ]
    }
   ],
   "source": [
    "print(\"\\n--- CURRENT AFFAIRS SUMMARY ---\")\n",
    "# TODO: Print Response\n",
    "print(response['generation'])"
   ]
  },
  {
   "cell_type": "code",
   "execution_count": null,
   "id": "d62b2756",
   "metadata": {},
   "outputs": [],
   "source": []
  }
 ],
 "metadata": {
  "kernelspec": {
   "display_name": "AgenticAIBatch2",
   "language": "python",
   "name": "python3"
  },
  "language_info": {
   "codemirror_mode": {
    "name": "ipython",
    "version": 3
   },
   "file_extension": ".py",
   "mimetype": "text/x-python",
   "name": "python",
   "nbconvert_exporter": "python",
   "pygments_lexer": "ipython3",
   "version": "3.10.11"
  }
 },
 "nbformat": 4,
 "nbformat_minor": 5
}
