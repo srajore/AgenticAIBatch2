{
 "cells": [
  {
   "cell_type": "code",
   "execution_count": 16,
   "id": "fbe8bb9e",
   "metadata": {},
   "outputs": [],
   "source": [
    "from typing import TypedDict\n",
    "from langgraph.graph import StateGraph,START,END"
   ]
  },
  {
   "cell_type": "code",
   "execution_count": 17,
   "id": "6ba5f1fa",
   "metadata": {},
   "outputs": [],
   "source": [
    "class VegRecipeState(TypedDict):\n",
    "    ingredients: str\n",
    "    calories :float\n",
    "    fiber :float\n",
    "    fat_percentage :float\n",
    "    summery :str"
   ]
  },
  {
   "cell_type": "code",
   "execution_count": 18,
   "id": "3cac40dc",
   "metadata": {},
   "outputs": [],
   "source": [
    "def calculate_calories(state: VegRecipeState) -> dict:\n",
    "    # Mock calory data(Kcal per 100g)\n",
    "    calories=(state['ingredients']['rice'] * 1.30 + state['ingredients']['mix_vegitables'] * 0.35 + state['ingredients']['ghee'] * 9.00)   \n",
    "    return {'calories':calories}"
   ]
  },
  {
   "cell_type": "code",
   "execution_count": 19,
   "id": "9c3cda79",
   "metadata": {},
   "outputs": [],
   "source": [
    "def calculate_fiber(state: VegRecipeState) -> dict:\n",
    "    # Mock fiber data(Kcal per 100g)\n",
    "    fiber = (state['ingredients']['rice'] * 0.10 + state['ingredients']['mix_vegitables'] * 2.00 + state['ingredients']['ghee'] * 0.00)\n",
    "    return {'fiber':fiber}"
   ]
  },
  {
   "cell_type": "code",
   "execution_count": 20,
   "id": "ca0f14f8",
   "metadata": {},
   "outputs": [],
   "source": [
    "def calculate_fat_percentage(state: VegRecipeState)-> dict:\n",
    "    # Mock fat_percentage data(Kcal per 100g)\n",
    "    fat_percentage = (state['ingredients']['rice'] * 0.10 + state['ingredients']['mix_vegitables'] * 0.10 + state['ingredients']['ghee'] * 10.00)\n",
    "    return {'fat_percentage':fat_percentage}\n",
    "    "
   ]
  },
  {
   "cell_type": "code",
   "execution_count": 21,
   "id": "d495762e",
   "metadata": {},
   "outputs": [],
   "source": [
    "def summery(state: VegRecipeState)-> dict:\n",
    "    summery=f' Vegitable biryani Nutrition :\\n Calories: {state[\"calories\"]} Kcal\\n Fiber: {state[\"fiber\"]} g\\n Fat Percentage: {state[\"fat_percentage\"]} %'\n",
    "    return {\"summery\":summery}"
   ]
  },
  {
   "cell_type": "code",
   "execution_count": 22,
   "id": "56bf6bf7",
   "metadata": {},
   "outputs": [
    {
     "data": {
      "text/plain": [
       "<langgraph.graph.state.StateGraph at 0x1fedf4dd000>"
      ]
     },
     "execution_count": 22,
     "metadata": {},
     "output_type": "execute_result"
    }
   ],
   "source": [
    "graph = StateGraph(VegRecipeState)\n",
    "\n",
    "graph.add_node(\"calculate_calories\",calculate_calories )\n",
    "graph.add_node(\"calculate_fiber\",calculate_fiber )\n",
    "graph.add_node(\"calculate_fat_percentage\",calculate_fat_percentage )\n",
    "graph.add_node(\"summery\", summery)\n",
    "\n",
    "graph.add_edge(START,\"calculate_calories\")\n",
    "graph.add_edge(START,\"calculate_fiber\")\n",
    "graph.add_edge(START,\"calculate_fat_percentage\")\n",
    "graph.add_edge(\"calculate_calories\",\"summery\")\n",
    "graph.add_edge(\"calculate_fiber\",\"summery\")\n",
    "graph.add_edge(\"calculate_fat_percentage\",\"summery\")\n",
    "graph.add_edge(\"summery\",END)\n",
    "\n",
    "\n"
   ]
  },
  {
   "cell_type": "code",
   "execution_count": 23,
   "id": "4502425d",
   "metadata": {},
   "outputs": [],
   "source": [
    "workflow = graph.compile()"
   ]
  },
  {
   "cell_type": "code",
   "execution_count": 24,
   "id": "8afd94bb",
   "metadata": {},
   "outputs": [],
   "source": [
    "response = workflow.invoke({\"ingredients\":{'rice': 100,'mix_vegitables': 50, 'ghee': 10}})"
   ]
  },
  {
   "cell_type": "code",
   "execution_count": 25,
   "id": "0689beae",
   "metadata": {},
   "outputs": [
    {
     "name": "stdout",
     "output_type": "stream",
     "text": [
      "{'ingredients': {'rice': 100, 'mix_vegitables': 50, 'ghee': 10}, 'calories': 237.5, 'fiber': 110.0, 'fat_percentage': 115.0, 'summery': ' Vegitable biryani Nutrition :\\n Calories: 237.5 Kcal\\n Fiber: 110.0 g\\n Fat Percentage: 115.0 %'}\n"
     ]
    }
   ],
   "source": [
    "print(response)"
   ]
  }
 ],
 "metadata": {
  "kernelspec": {
   "display_name": "AgenticAIBatch2",
   "language": "python",
   "name": "python3"
  },
  "language_info": {
   "codemirror_mode": {
    "name": "ipython",
    "version": 3
   },
   "file_extension": ".py",
   "mimetype": "text/x-python",
   "name": "python",
   "nbconvert_exporter": "python",
   "pygments_lexer": "ipython3",
   "version": "3.10.11"
  }
 },
 "nbformat": 4,
 "nbformat_minor": 5
}
