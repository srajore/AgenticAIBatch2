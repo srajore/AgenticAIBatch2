{
 "cells": [
  {
   "cell_type": "code",
   "execution_count": 59,
   "id": "2626bc8e",
   "metadata": {},
   "outputs": [],
   "source": [
    "# Imports\n",
    "from typing import TypedDict,List, Annotated\n",
    "from langchain_core.messages import AnyMessage,HumanMessage,AIMessage\n",
    "from langgraph.graph import StateGraph, END ,START,MessagesState\n",
    "from operator import add\n"
   ]
  },
  {
   "cell_type": "code",
   "execution_count": 60,
   "id": "c70f0a30",
   "metadata": {},
   "outputs": [],
   "source": [
    "# Define chatbot state with accumulated messages\n",
    "\n",
    "class ChatbotState(TypedDict):\n",
    "    messages: Annotated[List[AnyMessage],add]\n",
    "    disscount: Annotated[int,add]\n"
   ]
  },
  {
   "cell_type": "code",
   "execution_count": 61,
   "id": "c89391eb",
   "metadata": {},
   "outputs": [],
   "source": [
    "# Responses based on intent level \n",
    "def connect_to_sales(state:ChatbotState):\n",
    "    return {\"messages\":[AIMessage(content=\" Great ! let me connect you wit our sales team right now\")],\n",
    "            \"disscount\":10\n",
    "    }"
   ]
  },
  {
   "cell_type": "code",
   "execution_count": 62,
   "id": "28a2050c",
   "metadata": {},
   "outputs": [],
   "source": [
    "def sales_response(state:ChatbotState):\n",
    "    return {\"messages\":[AIMessage(content=\" We have the best offer for you !\")],\n",
    "        \"disscount\":20\n",
    "    }"
   ]
  },
  {
   "cell_type": "code",
   "execution_count": 63,
   "id": "b5ef58cf",
   "metadata": {},
   "outputs": [
    {
     "data": {
      "text/plain": [
       "<langgraph.graph.state.StateGraph at 0x1dabbd63640>"
      ]
     },
     "execution_count": 63,
     "metadata": {},
     "output_type": "execute_result"
    }
   ],
   "source": [
    "graph_builder = StateGraph(ChatbotState)\n",
    "\n",
    "graph_builder.add_node(\"connect_to_sales\", connect_to_sales)\n",
    "graph_builder.add_node(\"sales_response\", sales_response)\n"
   ]
  },
  {
   "cell_type": "code",
   "execution_count": 64,
   "id": "faeb4209",
   "metadata": {},
   "outputs": [
    {
     "data": {
      "text/plain": [
       "<langgraph.graph.state.StateGraph at 0x1dabbd63640>"
      ]
     },
     "execution_count": 64,
     "metadata": {},
     "output_type": "execute_result"
    }
   ],
   "source": [
    "# Define the conversation flow\n",
    "graph_builder.add_edge(START,\"connect_to_sales\")\n",
    "graph_builder.add_edge(\"connect_to_sales\",\"sales_response\")\n",
    "graph_builder.add_edge(\"sales_response\",END)\n"
   ]
  },
  {
   "cell_type": "code",
   "execution_count": 65,
   "id": "57aadd21",
   "metadata": {},
   "outputs": [],
   "source": [
    "#Compile the graph\n",
    "chatbot = graph_builder.compile()"
   ]
  },
  {
   "cell_type": "code",
   "execution_count": 66,
   "id": "4cad802b",
   "metadata": {},
   "outputs": [],
   "source": [
    "# Simulate the conversation\n",
    "\n",
    "test_inputes = \"I want to buy your product\""
   ]
  },
  {
   "cell_type": "code",
   "execution_count": 67,
   "id": "8399426d",
   "metadata": {},
   "outputs": [],
   "source": [
    "messages = chatbot.invoke({\"messages\": [HumanMessage(content=test_inputes)]})"
   ]
  },
  {
   "cell_type": "code",
   "execution_count": 68,
   "id": "04196715",
   "metadata": {},
   "outputs": [
    {
     "name": "stdout",
     "output_type": "stream",
     "text": [
      " Bot : I want to buy your product\n",
      " Bot :  Great ! let me connect you wit our sales team right now\n",
      " Bot :  We have the best offer for you !\n"
     ]
    }
   ],
   "source": [
    "for message in messages['messages']:\n",
    "    print(f\" Bot : {message.content}\")"
   ]
  },
  {
   "cell_type": "code",
   "execution_count": 69,
   "id": "21c2dc36",
   "metadata": {},
   "outputs": [
    {
     "name": "stdout",
     "output_type": "stream",
     "text": [
      " Final Discount : 30 %\n"
     ]
    }
   ],
   "source": [
    "print(f\" Final Discount : {messages['disscount']}\",'%')"
   ]
  }
 ],
 "metadata": {
  "kernelspec": {
   "display_name": "AgenticAIBatch2",
   "language": "python",
   "name": "python3"
  },
  "language_info": {
   "codemirror_mode": {
    "name": "ipython",
    "version": 3
   },
   "file_extension": ".py",
   "mimetype": "text/x-python",
   "name": "python",
   "nbconvert_exporter": "python",
   "pygments_lexer": "ipython3",
   "version": "3.10.11"
  }
 },
 "nbformat": 4,
 "nbformat_minor": 5
}
