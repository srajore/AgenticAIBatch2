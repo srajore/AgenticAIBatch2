{
 "cells": [
  {
   "cell_type": "code",
   "execution_count": null,
   "id": "99d06193",
   "metadata": {},
   "outputs": [],
   "source": [
    "# imports\n",
    "from langchain.tools import Tool\n",
    "from langchain_tavily import TavilySearch\n",
    "from dotenv import load_dotenv\n",
    "#from langchain_google_genai import ChatGoogleGenerativeAI\n",
    "from langchain.agents import AgentExecutor,create_react_agent\n",
    "from langchain import hub\n",
    "from langchain_openai import ChatOpenAI"
   ]
  },
  {
   "cell_type": "code",
   "execution_count": null,
   "id": "5a2b431d",
   "metadata": {},
   "outputs": [],
   "source": [
    "load_dotenv(override=True)"
   ]
  },
  {
   "cell_type": "code",
   "execution_count": null,
   "id": "60d6f854",
   "metadata": {},
   "outputs": [],
   "source": [
    "# Define a simple custom tool function\n",
    "def my_tool_function(query:str) -> str:\n",
    "    return f\" Tool Response : {query}\" "
   ]
  },
  {
   "cell_type": "code",
   "execution_count": null,
   "id": "960edcec",
   "metadata": {},
   "outputs": [],
   "source": [
    "def add(a:int,b:int )-> int:\n",
    "    return a+b"
   ]
  },
  {
   "cell_type": "code",
   "execution_count": null,
   "id": "e2c3a1a0",
   "metadata": {},
   "outputs": [],
   "source": [
    "# Create a Tool instance using the custom function\n",
    "my_tool = Tool.from_function(func=my_tool_function, name=\"simple_tool\", description=\"A simple tool\")\n",
    "#my_tool2 = Tool.from_function(func=add, name=\"add_tool\", description=\"performs the addition of tow numbers\")"
   ]
  },
  {
   "cell_type": "code",
   "execution_count": null,
   "id": "4ccee907",
   "metadata": {},
   "outputs": [],
   "source": [
    "# Initilize the tavily search tool\n",
    "# Your TAVELY_API_KEY should be set in your environment variables\n",
    "\n",
    "tavily_search = TavilySearch()"
   ]
  },
  {
   "cell_type": "code",
   "execution_count": null,
   "id": "805ad959",
   "metadata": {},
   "outputs": [],
   "source": [
    "# Create a list of tools for my agent\n",
    "tools = [my_tool,tavily_search]"
   ]
  },
  {
   "cell_type": "code",
   "execution_count": null,
   "id": "b291cbe1",
   "metadata": {},
   "outputs": [],
   "source": [
    "# Initialize the language model\n",
    "#llm = ChatGoogleGenerativeAI(model=\"gemini-2.5-pro\", temperature=0.3)\n",
    "# Initialize the language model\n",
    "llm = ChatOpenAI(model=\"gpt-4o-mini\", temperature=0.3)"
   ]
  },
  {
   "cell_type": "code",
   "execution_count": null,
   "id": "3e56016c",
   "metadata": {},
   "outputs": [],
   "source": [
    "# Pull a pre-built ReAct( Reasoning and Acting) prompt for lanchain hub\n",
    "prompt = hub.pull(\"hwchase17/react\")"
   ]
  },
  {
   "cell_type": "code",
   "execution_count": null,
   "id": "006e292a",
   "metadata": {},
   "outputs": [],
   "source": [
    "agent = create_react_agent(llm,tools,prompt)"
   ]
  },
  {
   "cell_type": "code",
   "execution_count": null,
   "id": "54467203",
   "metadata": {},
   "outputs": [],
   "source": [
    "# Create the AgentExecuter to run the agent\n",
    "agent_executor = AgentExecutor(agent=agent, tools=tools, verbose=True,handle_parsing_errors=True)"
   ]
  },
  {
   "cell_type": "code",
   "execution_count": null,
   "id": "ecfcd4c8",
   "metadata": {},
   "outputs": [],
   "source": [
    "response = agent_executor.invoke({\"input\": \"Could you add 10 and 5?\"})"
   ]
  },
  {
   "cell_type": "code",
   "execution_count": null,
   "id": "cca7b07d",
   "metadata": {},
   "outputs": [],
   "source": [
    "print(response)"
   ]
  }
 ],
 "metadata": {
  "kernelspec": {
   "display_name": "AgenticAIBatch2",
   "language": "python",
   "name": "python3"
  },
  "language_info": {
   "codemirror_mode": {
    "name": "ipython",
    "version": 3
   },
   "file_extension": ".py",
   "mimetype": "text/x-python",
   "name": "python",
   "nbconvert_exporter": "python",
   "pygments_lexer": "ipython3",
   "version": "3.10.11"
  }
 },
 "nbformat": 4,
 "nbformat_minor": 5
}
