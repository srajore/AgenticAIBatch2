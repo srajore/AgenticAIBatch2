{
 "cells": [
  {
   "cell_type": "code",
   "execution_count": 27,
   "id": "99d06193",
   "metadata": {},
   "outputs": [],
   "source": [
    "# imports\n",
    "from langchain.tools import Tool\n",
    "from langchain_tavily import TavilySearch\n",
    "from dotenv import load_dotenv\n",
    "#from langchain_google_genai import ChatGoogleGenerativeAI\n",
    "from langchain.agents import AgentExecutor,create_react_agent\n",
    "from langchain import hub\n",
    "from langchain_openai import ChatOpenAI"
   ]
  },
  {
   "cell_type": "code",
   "execution_count": 28,
   "id": "5a2b431d",
   "metadata": {},
   "outputs": [
    {
     "data": {
      "text/plain": [
       "True"
      ]
     },
     "execution_count": 28,
     "metadata": {},
     "output_type": "execute_result"
    }
   ],
   "source": [
    "load_dotenv(override=True)"
   ]
  },
  {
   "cell_type": "code",
   "execution_count": 29,
   "id": "60d6f854",
   "metadata": {},
   "outputs": [],
   "source": [
    "# Define a simple custom tool function\n",
    "def my_tool_function(query:str) -> str:\n",
    "    return f\" Tool Response : {query}\" "
   ]
  },
  {
   "cell_type": "code",
   "execution_count": 30,
   "id": "e2c3a1a0",
   "metadata": {},
   "outputs": [],
   "source": [
    "# Create a Tool instance using the custom function\n",
    "my_tool = Tool.from_function(func=my_tool_function, name=\"simple_tool\", description=\"A simple tool\")"
   ]
  },
  {
   "cell_type": "code",
   "execution_count": 39,
   "id": "4ccee907",
   "metadata": {},
   "outputs": [],
   "source": [
    "# Initilize the tavily search tool\n",
    "# Your TAVELY_API_KEY should be set in your environment variables\n",
    "\n",
    "tavily_search = TavilySearch()"
   ]
  },
  {
   "cell_type": "code",
   "execution_count": 32,
   "id": "805ad959",
   "metadata": {},
   "outputs": [],
   "source": [
    "# Create a list of tools for my agent\n",
    "tools = [my_tool,tavily_search]"
   ]
  },
  {
   "cell_type": "code",
   "execution_count": 33,
   "id": "b291cbe1",
   "metadata": {},
   "outputs": [],
   "source": [
    "# Initialize the language model\n",
    "#llm = ChatGoogleGenerativeAI(model=\"gemini-2.5-pro\", temperature=0.3)\n",
    "# Initialize the language model\n",
    "llm = ChatOpenAI(model=\"gpt-4o-mini\", temperature=0.3)"
   ]
  },
  {
   "cell_type": "code",
   "execution_count": 34,
   "id": "3e56016c",
   "metadata": {},
   "outputs": [],
   "source": [
    "# Pull a pre-built ReAct( Reasoning and Acting) prompt for lanchain hub\n",
    "prompt = hub.pull(\"hwchase17/react\")"
   ]
  },
  {
   "cell_type": "code",
   "execution_count": 35,
   "id": "006e292a",
   "metadata": {},
   "outputs": [],
   "source": [
    "agent = create_react_agent(llm,tools,prompt)"
   ]
  },
  {
   "cell_type": "code",
   "execution_count": 36,
   "id": "54467203",
   "metadata": {},
   "outputs": [],
   "source": [
    "# Create the AgentExecuter to run the agent\n",
    "agent_executor = AgentExecutor(agent=agent, tools=tools, verbose=True,handle_parsing_errors=True)"
   ]
  },
  {
   "cell_type": "code",
   "execution_count": 37,
   "id": "ecfcd4c8",
   "metadata": {},
   "outputs": [
    {
     "name": "stdout",
     "output_type": "stream",
     "text": [
      "\n",
      "\n",
      "\u001b[1m> Entering new AgentExecutor chain...\u001b[0m\n",
      "\u001b[32;1m\u001b[1;3mI need to find the current weather conditions in Pune, Maharashtra, India. Since this is a real-time query, I will use the tavily_search tool to get the most accurate and up-to-date information.  \n",
      "Action: tavily_search  \n",
      "Action Input: \"current weather Pune Maharashtra India\"  \u001b[0m\u001b[33;1m\u001b[1;3m{'query': 'current weather Pune Maharashtra India', 'follow_up_questions': None, 'answer': None, 'images': [], 'results': [{'title': 'Weather in Pune, Maharashtra, India', 'url': 'https://www.weatherapi.com/', 'content': \"{'location': {'name': 'Pune', 'region': 'Maharashtra', 'country': 'India', 'lat': 18.5333, 'lon': 73.8667, 'tz_id': 'Asia/Kolkata', 'localtime_epoch': 1758621616, 'localtime': '2025-09-23 15:30'}, 'current': {'last_updated_epoch': 1758621600, 'last_updated': '2025-09-23 15:30', 'temp_c': 25.2, 'temp_f': 77.3, 'is_day': 1, 'condition': {'text': 'Cloudy', 'icon': '//cdn.weatherapi.com/weather/64x64/day/119.png', 'code': 1006}, 'wind_mph': 13.0, 'wind_kph': 20.9, 'wind_degree': 275, 'wind_dir': 'W', 'pressure_mb': 1009.0, 'pressure_in': 29.79, 'precip_mm': 0.0, 'precip_in': 0.0, 'humidity': 70, 'cloud': 66, 'feelslike_c': 26.8, 'feelslike_f': 80.3, 'windchill_c': 25.2, 'windchill_f': 77.3, 'heatindex_c': 26.8, 'heatindex_f': 80.3, 'dewpoint_c': 19.4, 'dewpoint_f': 66.9, 'vis_km': 10.0, 'vis_miles': 6.0, 'uv': 2.5, 'gust_mph': 14.9, 'gust_kph': 24.0}}\", 'score': 0.9579479, 'raw_content': None}, {'url': 'https://www.indiatoday.in/weather/pune-weather-forecast-today', 'title': 'Pune Weather Today, Pune Temperature and Air Quality (2025-09-23)', 'content': 'Pune Weather Today (Tuesday, Sep 23, 2025) · Tue23/09/25 Rain 26° · Wed24/09/25 Clouds 28° · Thu25/09/25 Clear 29° · Fri26/09/25 Rain 29° · Sat27/09/25 Rain 24° · Sun', 'score': 0.9224337, 'raw_content': None}, {'url': 'https://timesofindia.indiatimes.com/weather/pune-weather-forecast-today/411002', 'title': 'Pune Weather Today, Pune Temperature Hourly and Weekly Forecast', 'content': \"Pune Weather Forecast 23 Sep 2025 ... Today's Weather in Pune: In Pune today, the weather is expected to be Cloudy with a maximum temperature of 27°C and a\", 'score': 0.91760606, 'raw_content': None}, {'url': 'https://www.timeanddate.com/weather/india/pune', 'title': 'Weather for Pune, Maharashtra, India - Time and Date', 'content': 'Current weather in Pune and forecast for today, tomorrow, and next 14 days. ... Sep 23, 2025 at 8:30 am. Visibility: 6 mi. Pressure: 29.86 \"Hg (27.96 \"Hg at', 'score': 0.8965509, 'raw_content': None}, {'url': 'https://www.weather25.com/asia/india/maharashtra/pune?page=month&month=September', 'title': 'Pune weather in September 2025 - Weather25.com', 'content': 'The weather in Pune in September is hot. The average temperatures are between 69°F and 82°F. You can expect rain for roughly half of the month of September', 'score': 0.86441374, 'raw_content': None}], 'response_time': 1.58, 'request_id': '7984daa8-65cc-416e-8cce-6615b878a845'}\u001b[0m\u001b[32;1m\u001b[1;3mThe current weather in Pune, Maharashtra, India is cloudy with a temperature of approximately 25.2°C (77.3°F). The wind is blowing from the west at about 13 mph (20.9 kph), and the humidity level is around 70%. There is no precipitation reported at this time. \n",
      "\n",
      "Final Answer: The weather in Pune, Maharashtra, India today is cloudy with a temperature of 25.2°C (77.3°F) and 70% humidity.\u001b[0m\n",
      "\n",
      "\u001b[1m> Finished chain.\u001b[0m\n"
     ]
    }
   ],
   "source": [
    "response = agent_executor.invoke({\"input\": \"Whats the weather like today in India Pune MH?\"})"
   ]
  },
  {
   "cell_type": "code",
   "execution_count": 38,
   "id": "cca7b07d",
   "metadata": {},
   "outputs": [
    {
     "name": "stdout",
     "output_type": "stream",
     "text": [
      "{'input': 'Whats the weather like today in India Pune MH?', 'output': 'The weather in Pune, Maharashtra, India today is cloudy with a temperature of 25.2°C (77.3°F) and 70% humidity.'}\n"
     ]
    }
   ],
   "source": [
    "print(response)"
   ]
  }
 ],
 "metadata": {
  "kernelspec": {
   "display_name": "AgenticAIBatch2",
   "language": "python",
   "name": "python3"
  },
  "language_info": {
   "codemirror_mode": {
    "name": "ipython",
    "version": 3
   },
   "file_extension": ".py",
   "mimetype": "text/x-python",
   "name": "python",
   "nbconvert_exporter": "python",
   "pygments_lexer": "ipython3",
   "version": "3.10.11"
  }
 },
 "nbformat": 4,
 "nbformat_minor": 5
}
