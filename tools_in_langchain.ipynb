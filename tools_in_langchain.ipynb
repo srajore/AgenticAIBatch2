{
 "cells": [
  {
   "cell_type": "code",
   "execution_count": 71,
   "id": "1ae44ff1",
   "metadata": {},
   "outputs": [],
   "source": [
    "from langchain.tools import tool\n",
    "#from langchain_ollama import ChatOllama\n",
    "from langchain_openai import ChatOpenAI\n",
    "from dotenv import load_dotenv\n",
    "from langchain_core.messages import HumanMessage"
   ]
  },
  {
   "cell_type": "code",
   "execution_count": 72,
   "id": "f95433c8",
   "metadata": {},
   "outputs": [
    {
     "data": {
      "text/plain": [
       "True"
      ]
     },
     "execution_count": 72,
     "metadata": {},
     "output_type": "execute_result"
    }
   ],
   "source": [
    "load_dotenv(override=True)"
   ]
  },
  {
   "cell_type": "code",
   "execution_count": null,
   "id": "d40b9d77",
   "metadata": {},
   "outputs": [],
   "source": [
    "@tool\n",
    "def multiply_func(a:int,b:int) -> int:\n",
    "    ''' Given 2 numbers a and b this tool returns the product'''\n",
    "    return a * b"
   ]
  },
  {
   "cell_type": "code",
   "execution_count": 74,
   "id": "5a920120",
   "metadata": {},
   "outputs": [],
   "source": [
    "@tool\n",
    "def add_func(a:int,b:int) -> int:\n",
    "    ''' Given 2 numbers a and b this tool returns the addition'''\n",
    "    return a + b"
   ]
  },
  {
   "cell_type": "code",
   "execution_count": 75,
   "id": "685e1082",
   "metadata": {},
   "outputs": [
    {
     "name": "stdout",
     "output_type": "stream",
     "text": [
      "6\n"
     ]
    }
   ],
   "source": [
    "result = multiply_func.invoke({'a':3,'b':2})\n",
    "\n",
    "print(result)\n",
    "\n"
   ]
  },
  {
   "cell_type": "code",
   "execution_count": 76,
   "id": "76b47939",
   "metadata": {},
   "outputs": [
    {
     "data": {
      "text/plain": [
       "'multiply_func'"
      ]
     },
     "execution_count": 76,
     "metadata": {},
     "output_type": "execute_result"
    }
   ],
   "source": [
    "multiply_func.name"
   ]
  },
  {
   "cell_type": "code",
   "execution_count": 77,
   "id": "62cc4b17",
   "metadata": {},
   "outputs": [
    {
     "data": {
      "text/plain": [
       "'Given 2 numbers a and b this tool returns the product'"
      ]
     },
     "execution_count": 77,
     "metadata": {},
     "output_type": "execute_result"
    }
   ],
   "source": [
    "multiply_func.description"
   ]
  },
  {
   "cell_type": "code",
   "execution_count": 78,
   "id": "e2cef0ce",
   "metadata": {},
   "outputs": [
    {
     "data": {
      "text/plain": [
       "{'a': {'title': 'A', 'type': 'integer'},\n",
       " 'b': {'title': 'B', 'type': 'integer'}}"
      ]
     },
     "execution_count": 78,
     "metadata": {},
     "output_type": "execute_result"
    }
   ],
   "source": [
    "multiply_func.args"
   ]
  },
  {
   "cell_type": "code",
   "execution_count": 79,
   "id": "c49e32eb",
   "metadata": {},
   "outputs": [],
   "source": [
    "llm = ChatOpenAI(model=\"gpt-4o-mini\")"
   ]
  },
  {
   "cell_type": "code",
   "execution_count": null,
   "id": "24bbd0ca",
   "metadata": {},
   "outputs": [],
   "source": [
    "llm_with_tools = llm.bind_tools([multiply_func,add_func])"
   ]
  },
  {
   "cell_type": "code",
   "execution_count": 81,
   "id": "4349c04c",
   "metadata": {},
   "outputs": [
    {
     "data": {
      "text/plain": [
       "AIMessage(content='The capital of France is Paris.', additional_kwargs={'refusal': None}, response_metadata={'token_usage': {'completion_tokens': 8, 'prompt_tokens': 92, 'total_tokens': 100, 'completion_tokens_details': {'accepted_prediction_tokens': 0, 'audio_tokens': 0, 'reasoning_tokens': 0, 'rejected_prediction_tokens': 0}, 'prompt_tokens_details': {'audio_tokens': 0, 'cached_tokens': 0}}, 'model_name': 'gpt-4o-mini-2024-07-18', 'system_fingerprint': 'fp_560af6e559', 'id': 'chatcmpl-CJH1FmfO1rlvoXurEnrnsoK8NzrrQ', 'service_tier': 'default', 'finish_reason': 'stop', 'logprobs': None}, id='run--470018ed-2b80-4952-8a61-a448b83489bd-0', usage_metadata={'input_tokens': 92, 'output_tokens': 8, 'total_tokens': 100, 'input_token_details': {'audio': 0, 'cache_read': 0}, 'output_token_details': {'audio': 0, 'reasoning': 0}})"
      ]
     },
     "execution_count": 81,
     "metadata": {},
     "output_type": "execute_result"
    }
   ],
   "source": [
    "llm_with_tools.invoke(\"What is the capital of France?\")"
   ]
  },
  {
   "cell_type": "code",
   "execution_count": 82,
   "id": "a5304f14",
   "metadata": {},
   "outputs": [],
   "source": [
    "#print(response.content)"
   ]
  },
  {
   "cell_type": "code",
   "execution_count": 83,
   "id": "33066cc6",
   "metadata": {},
   "outputs": [],
   "source": [
    "#llm_with_tools.invoke(\"What is 2 multiply 3 ?\") #multiply_func "
   ]
  },
  {
   "cell_type": "code",
   "execution_count": 97,
   "id": "35882c54",
   "metadata": {},
   "outputs": [],
   "source": [
    "query = HumanMessage('\"What is 2 multiply 3 ?')"
   ]
  },
  {
   "cell_type": "code",
   "execution_count": 98,
   "id": "e672240a",
   "metadata": {},
   "outputs": [],
   "source": [
    "messages= [query]"
   ]
  },
  {
   "cell_type": "code",
   "execution_count": 99,
   "id": "9696b903",
   "metadata": {},
   "outputs": [
    {
     "data": {
      "text/plain": [
       "[HumanMessage(content='\"What is 2 multiply 3 ?', additional_kwargs={}, response_metadata={})]"
      ]
     },
     "execution_count": 99,
     "metadata": {},
     "output_type": "execute_result"
    }
   ],
   "source": [
    "messages"
   ]
  },
  {
   "cell_type": "code",
   "execution_count": 100,
   "id": "3d5228d2",
   "metadata": {},
   "outputs": [],
   "source": [
    "result = llm_with_tools.invoke(messages)"
   ]
  },
  {
   "cell_type": "code",
   "execution_count": 101,
   "id": "e0fba997",
   "metadata": {},
   "outputs": [],
   "source": [
    "messages.append(result)"
   ]
  },
  {
   "cell_type": "code",
   "execution_count": 102,
   "id": "61586c09",
   "metadata": {},
   "outputs": [
    {
     "data": {
      "text/plain": [
       "[HumanMessage(content='\"What is 2 multiply 3 ?', additional_kwargs={}, response_metadata={}),\n",
       " AIMessage(content='', additional_kwargs={'tool_calls': [{'id': 'call_FXv4gk3JN99PTDNdRbbQnAiG', 'function': {'arguments': '{\"a\":2,\"b\":3}', 'name': 'xyz_func'}, 'type': 'function'}], 'refusal': None}, response_metadata={'token_usage': {'completion_tokens': 18, 'prompt_tokens': 93, 'total_tokens': 111, 'completion_tokens_details': {'accepted_prediction_tokens': 0, 'audio_tokens': 0, 'reasoning_tokens': 0, 'rejected_prediction_tokens': 0}, 'prompt_tokens_details': {'audio_tokens': 0, 'cached_tokens': 0}}, 'model_name': 'gpt-4o-mini-2024-07-18', 'system_fingerprint': 'fp_560af6e559', 'id': 'chatcmpl-CJH8gu4bwbEUaWzRbhgdcqrqiuyWd', 'service_tier': 'default', 'finish_reason': 'tool_calls', 'logprobs': None}, id='run--2e41a67e-88c5-412b-a67d-5655636ba8bc-0', tool_calls=[{'name': 'xyz_func', 'args': {'a': 2, 'b': 3}, 'id': 'call_FXv4gk3JN99PTDNdRbbQnAiG', 'type': 'tool_call'}], usage_metadata={'input_tokens': 93, 'output_tokens': 18, 'total_tokens': 111, 'input_token_details': {'audio': 0, 'cache_read': 0}, 'output_token_details': {'audio': 0, 'reasoning': 0}})]"
      ]
     },
     "execution_count": 102,
     "metadata": {},
     "output_type": "execute_result"
    }
   ],
   "source": [
    "messages"
   ]
  },
  {
   "cell_type": "code",
   "execution_count": null,
   "id": "393977d5",
   "metadata": {},
   "outputs": [],
   "source": [
    "tool_result =multiply_func.invoke(result.tool_calls[0])"
   ]
  },
  {
   "cell_type": "code",
   "execution_count": 104,
   "id": "8e6ae636",
   "metadata": {},
   "outputs": [],
   "source": [
    "messages.append(tool_result)"
   ]
  },
  {
   "cell_type": "code",
   "execution_count": 106,
   "id": "6b6ba018",
   "metadata": {},
   "outputs": [
    {
     "data": {
      "text/plain": [
       "[HumanMessage(content='\"What is 2 multiply 3 ?', additional_kwargs={}, response_metadata={}),\n",
       " AIMessage(content='', additional_kwargs={'tool_calls': [{'id': 'call_FXv4gk3JN99PTDNdRbbQnAiG', 'function': {'arguments': '{\"a\":2,\"b\":3}', 'name': 'xyz_func'}, 'type': 'function'}], 'refusal': None}, response_metadata={'token_usage': {'completion_tokens': 18, 'prompt_tokens': 93, 'total_tokens': 111, 'completion_tokens_details': {'accepted_prediction_tokens': 0, 'audio_tokens': 0, 'reasoning_tokens': 0, 'rejected_prediction_tokens': 0}, 'prompt_tokens_details': {'audio_tokens': 0, 'cached_tokens': 0}}, 'model_name': 'gpt-4o-mini-2024-07-18', 'system_fingerprint': 'fp_560af6e559', 'id': 'chatcmpl-CJH8gu4bwbEUaWzRbhgdcqrqiuyWd', 'service_tier': 'default', 'finish_reason': 'tool_calls', 'logprobs': None}, id='run--2e41a67e-88c5-412b-a67d-5655636ba8bc-0', tool_calls=[{'name': 'xyz_func', 'args': {'a': 2, 'b': 3}, 'id': 'call_FXv4gk3JN99PTDNdRbbQnAiG', 'type': 'tool_call'}], usage_metadata={'input_tokens': 93, 'output_tokens': 18, 'total_tokens': 111, 'input_token_details': {'audio': 0, 'cache_read': 0}, 'output_token_details': {'audio': 0, 'reasoning': 0}}),\n",
       " ToolMessage(content='6', name='xyz_func', tool_call_id='call_FXv4gk3JN99PTDNdRbbQnAiG')]"
      ]
     },
     "execution_count": 106,
     "metadata": {},
     "output_type": "execute_result"
    }
   ],
   "source": [
    "messages"
   ]
  },
  {
   "cell_type": "code",
   "execution_count": null,
   "id": "47c8eb9b",
   "metadata": {},
   "outputs": [
    {
     "data": {
      "text/plain": [
       "'2 multiplied by 3 equals 6.'"
      ]
     },
     "execution_count": 107,
     "metadata": {},
     "output_type": "execute_result"
    }
   ],
   "source": [
    "llm_with_tools.invoke(messages).content"
   ]
  },
  {
   "cell_type": "code",
   "execution_count": 94,
   "id": "482eb2ee",
   "metadata": {},
   "outputs": [],
   "source": [
    "#multiply_func.invoke(result.tool_calls[0])"
   ]
  }
 ],
 "metadata": {
  "kernelspec": {
   "display_name": "AgenticAIBatch2",
   "language": "python",
   "name": "python3"
  },
  "language_info": {
   "codemirror_mode": {
    "name": "ipython",
    "version": 3
   },
   "file_extension": ".py",
   "mimetype": "text/x-python",
   "name": "python",
   "nbconvert_exporter": "python",
   "pygments_lexer": "ipython3",
   "version": "3.10.11"
  }
 },
 "nbformat": 4,
 "nbformat_minor": 5
}
